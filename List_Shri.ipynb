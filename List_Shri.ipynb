{
 "cells": [
  {
   "cell_type": "markdown",
   "id": "9d3a52e0",
   "metadata": {},
   "source": [
    "# Python Lists Notes"
   ]
  },
  {
   "cell_type": "markdown",
   "id": "94eba421",
   "metadata": {},
   "source": [
    "**Shri_Data Scientist**"
   ]
  },
  {
   "cell_type": "markdown",
   "id": "44481bf7",
   "metadata": {},
   "source": [
    "# 1.0 List introduction"
   ]
  },
  {
   "cell_type": "markdown",
   "id": "06d5498e",
   "metadata": {},
   "source": [
    "**1.1 Syntax**"
   ]
  },
  {
   "cell_type": "markdown",
   "id": "947e43c0",
   "metadata": {},
   "source": [
    "1. Lists are used to store multiple items in a single variable.\n",
    "2. Lists are created using square brackets\n",
    "3. Lists can store multiple data types also for ex. tuple, sets, dict, bool, etc"
   ]
  },
  {
   "cell_type": "code",
   "execution_count": 30,
   "id": "4357a5ae",
   "metadata": {},
   "outputs": [
    {
     "data": {
      "text/plain": [
       "[1, 2, 'Shri', [1, 23, 4], (1, 2, 3), {1, 2}, {'key': 'value'}, True]"
      ]
     },
     "execution_count": 30,
     "metadata": {},
     "output_type": "execute_result"
    }
   ],
   "source": [
    "l = [1,2,\"Shri\", [1,23,4], (1,2,3), {1,2}, {\"key\": \"value\"}, True]\n",
    "l"
   ]
  },
  {
   "cell_type": "markdown",
   "id": "8ebf91ef",
   "metadata": {},
   "source": [
    "# 1.2 type() and len() Method"
   ]
  },
  {
   "cell_type": "code",
   "execution_count": 2,
   "id": "13439dd9",
   "metadata": {},
   "outputs": [
    {
     "data": {
      "text/plain": [
       "(list, 8)"
      ]
     },
     "execution_count": 2,
     "metadata": {},
     "output_type": "execute_result"
    }
   ],
   "source": [
    "type(l),len(l)"
   ]
  },
  {
   "cell_type": "markdown",
   "id": "dabe57f2",
   "metadata": {},
   "source": [
    "# 1.3 List Properties"
   ]
  },
  {
   "cell_type": "markdown",
   "id": "134a94f3",
   "metadata": {},
   "source": [
    "1. lists are ordered, it means that if you add new items to a list, the new items will be placed at the end of the list. One\n",
    "exception to this is insert() method which inserts element at specified index.\n",
    "2. list is mutable, it means that we can change, add, and remove items in a list after it has been created.\n",
    "3. lists allow duplicates, since lists are indexed, so lists can have items with the same value."
   ]
  },
  {
   "cell_type": "markdown",
   "id": "e2748363",
   "metadata": {},
   "source": [
    "# 1.4 list() Method"
   ]
  },
  {
   "cell_type": "markdown",
   "id": "faa141d5",
   "metadata": {},
   "source": [
    "1. list() is used to convert other data types to list"
   ]
  },
  {
   "cell_type": "code",
   "execution_count": 4,
   "id": "8fbea5c8",
   "metadata": {},
   "outputs": [
    {
     "data": {
      "text/plain": [
       "['R', 'a', 'd', 'h', 'a', 'K', 'r', 'i', 's', 'h', 'n', 'a']"
      ]
     },
     "execution_count": 4,
     "metadata": {},
     "output_type": "execute_result"
    }
   ],
   "source": [
    "s='RadhaKrishna'\n",
    "list(s)"
   ]
  },
  {
   "cell_type": "code",
   "execution_count": 31,
   "id": "061dd0a8",
   "metadata": {},
   "outputs": [
    {
     "ename": "NameError",
     "evalue": "name 'tuple1' is not defined",
     "output_type": "error",
     "traceback": [
      "\u001b[1;31m---------------------------------------------------------------------------\u001b[0m",
      "\u001b[1;31mNameError\u001b[0m                                 Traceback (most recent call last)",
      "\u001b[1;32m~\\AppData\\Local\\Temp/ipykernel_12880/1242672754.py\u001b[0m in \u001b[0;36m<module>\u001b[1;34m\u001b[0m\n\u001b[0;32m      1\u001b[0m \u001b[1;31m# tuple1=(1,2,3,4,5)\u001b[0m\u001b[1;33m\u001b[0m\u001b[1;33m\u001b[0m\u001b[0m\n\u001b[1;32m----> 2\u001b[1;33m \u001b[0mlist\u001b[0m\u001b[1;33m(\u001b[0m\u001b[0mtuple1\u001b[0m\u001b[1;33m)\u001b[0m\u001b[1;33m\u001b[0m\u001b[1;33m\u001b[0m\u001b[0m\n\u001b[0m",
      "\u001b[1;31mNameError\u001b[0m: name 'tuple1' is not defined"
     ]
    }
   ],
   "source": [
    "# tuple1=(1,2,3,4,5)\n",
    "list(tuple1)"
   ]
  },
  {
   "cell_type": "markdown",
   "id": "ca6ee365",
   "metadata": {},
   "source": [
    "# 2.0 Accessing list elements"
   ]
  },
  {
   "cell_type": "markdown",
   "id": "29f26a86",
   "metadata": {},
   "source": [
    "1. list can be accessed by positive and negative indexing."
   ]
  },
  {
   "cell_type": "code",
   "execution_count": 2,
   "id": "389b2d32",
   "metadata": {},
   "outputs": [],
   "source": [
    "l1 = [\"Red\", \"Blue\", \"Green\",\"Yellow\", True, False, 1,3]"
   ]
  },
  {
   "cell_type": "markdown",
   "id": "ae5241b2",
   "metadata": {},
   "source": [
    "**2.1 Positive indexing**"
   ]
  },
  {
   "cell_type": "code",
   "execution_count": 3,
   "id": "be70147c",
   "metadata": {},
   "outputs": [
    {
     "data": {
      "text/plain": [
       "['Red', 'Blue', 'Green', 'Yellow', True, False, 1, 3]"
      ]
     },
     "execution_count": 3,
     "metadata": {},
     "output_type": "execute_result"
    }
   ],
   "source": [
    "# from first to last element\n",
    "l1[0:]"
   ]
  },
  {
   "cell_type": "code",
   "execution_count": 6,
   "id": "bc0a41ed",
   "metadata": {},
   "outputs": [
    {
     "data": {
      "text/plain": [
       "['Red', 'Blue', 'Green', 'Yellow']"
      ]
     },
     "execution_count": 6,
     "metadata": {},
     "output_type": "execute_result"
    }
   ],
   "source": [
    "# from first to 4th element\n",
    "l1[0:4]"
   ]
  },
  {
   "cell_type": "code",
   "execution_count": 7,
   "id": "7ce6dea3",
   "metadata": {},
   "outputs": [
    {
     "data": {
      "text/plain": [
       "['Green', 'Yellow', True]"
      ]
     },
     "execution_count": 7,
     "metadata": {},
     "output_type": "execute_result"
    }
   ],
   "source": [
    "# range of element\n",
    "l1[2:5]"
   ]
  },
  {
   "cell_type": "code",
   "execution_count": 13,
   "id": "c9c75360",
   "metadata": {},
   "outputs": [
    {
     "data": {
      "text/plain": [
       "['Red', 'Green', True, 1]"
      ]
     },
     "execution_count": 13,
     "metadata": {},
     "output_type": "execute_result"
    }
   ],
   "source": [
    "# elements with a jump 2 by default jump is 1\n",
    "l1[0::2]   # Start..end..step"
   ]
  },
  {
   "cell_type": "markdown",
   "id": "4c452961",
   "metadata": {},
   "source": [
    "**2.2 Negative indexing**"
   ]
  },
  {
   "cell_type": "code",
   "execution_count": 17,
   "id": "645ff767",
   "metadata": {},
   "outputs": [
    {
     "data": {
      "text/plain": [
       "['Red', 'Blue', 'Green', 'Yellow', True, False, 1]"
      ]
     },
     "execution_count": 17,
     "metadata": {},
     "output_type": "execute_result"
    }
   ],
   "source": [
    "# upto second last element\n",
    "l1[:-1]"
   ]
  },
  {
   "cell_type": "code",
   "execution_count": 19,
   "id": "717f834a",
   "metadata": {},
   "outputs": [
    {
     "data": {
      "text/plain": [
       "[3, 1, False, True, 'Yellow', 'Green', 'Blue', 'Red']"
      ]
     },
     "execution_count": 19,
     "metadata": {},
     "output_type": "execute_result"
    }
   ],
   "source": [
    "# to excess last element also but it reverses the list\n",
    "l1[::-1]"
   ]
  },
  {
   "cell_type": "code",
   "execution_count": 20,
   "id": "b16f2d14",
   "metadata": {},
   "outputs": [
    {
     "data": {
      "text/plain": [
       "[True, False, 1]"
      ]
     },
     "execution_count": 20,
     "metadata": {},
     "output_type": "execute_result"
    }
   ],
   "source": [
    "# range of elements\n",
    "l1[-4:-1]"
   ]
  },
  {
   "cell_type": "code",
   "execution_count": 21,
   "id": "d7abb803",
   "metadata": {},
   "outputs": [
    {
     "data": {
      "text/plain": [
       "[3, 1, False, True, 'Yellow', 'Green', 'Blue', 'Red']"
      ]
     },
     "execution_count": 21,
     "metadata": {},
     "output_type": "execute_result"
    }
   ],
   "source": [
    "# reverse of list\n",
    "l1[::-1]"
   ]
  },
  {
   "cell_type": "markdown",
   "id": "6fba9efd",
   "metadata": {},
   "source": [
    "# 3.0 Change list elements"
   ]
  },
  {
   "cell_type": "code",
   "execution_count": 22,
   "id": "7ed759a4",
   "metadata": {},
   "outputs": [
    {
     "data": {
      "text/plain": [
       "['Red', 'Blue', 'Green', 'Yellow', True, False, 1, 3]"
      ]
     },
     "execution_count": 22,
     "metadata": {},
     "output_type": "execute_result"
    }
   ],
   "source": [
    "l1"
   ]
  },
  {
   "cell_type": "markdown",
   "id": "b8efaeb2",
   "metadata": {},
   "source": [
    "**3.1 Change item value at specific index**"
   ]
  },
  {
   "cell_type": "code",
   "execution_count": 23,
   "id": "ee6abef7",
   "metadata": {},
   "outputs": [
    {
     "data": {
      "text/plain": [
       "['Red', 5, 'Green', 'Yellow', True, False, 1, 3]"
      ]
     },
     "execution_count": 23,
     "metadata": {},
     "output_type": "execute_result"
    }
   ],
   "source": [
    "l1[1]=5  #list is mutable\n",
    "l1"
   ]
  },
  {
   "cell_type": "markdown",
   "id": "0d1f1df6",
   "metadata": {},
   "source": [
    "**3.2 Insert multiple values**"
   ]
  },
  {
   "cell_type": "code",
   "execution_count": 24,
   "id": "643ecba3",
   "metadata": {},
   "outputs": [
    {
     "data": {
      "text/plain": [
       "['Red', 5, 'Shri', 'krishna', 'Ram', False, 1, 3]"
      ]
     },
     "execution_count": 24,
     "metadata": {},
     "output_type": "execute_result"
    }
   ],
   "source": [
    "l1[2:5]=['Shri','krishna','Ram']\n",
    "l1"
   ]
  },
  {
   "cell_type": "markdown",
   "id": "703fdb2a",
   "metadata": {},
   "source": [
    "# 4.0 Add elements to list"
   ]
  },
  {
   "cell_type": "code",
   "execution_count": 26,
   "id": "0971d6fd",
   "metadata": {},
   "outputs": [],
   "source": [
    "l=[1,2,3,4,5]"
   ]
  },
  {
   "cell_type": "markdown",
   "id": "7ac1f3bb",
   "metadata": {},
   "source": [
    "**4.1 append() Method**"
   ]
  },
  {
   "cell_type": "markdown",
   "id": "5f91fdf5",
   "metadata": {},
   "source": [
    "1. append() adds an item to the end of the list"
   ]
  },
  {
   "cell_type": "code",
   "execution_count": 30,
   "id": "ad5a7af8",
   "metadata": {},
   "outputs": [
    {
     "data": {
      "text/plain": [
       "[1, 2, 3, 4, 5, 'radhakrishna', 'Radhakrishna', 'Radhakrishna']"
      ]
     },
     "execution_count": 30,
     "metadata": {},
     "output_type": "execute_result"
    }
   ],
   "source": [
    "l.append(\"Radhakrishna\")\n",
    "l"
   ]
  },
  {
   "cell_type": "markdown",
   "id": "c6e470af",
   "metadata": {},
   "source": [
    "**4.2 insert() Method**"
   ]
  },
  {
   "cell_type": "markdown",
   "id": "b7d7808e",
   "metadata": {},
   "source": [
    "1. To insert a new list item, without replacing any of the existing values, we can use the insert() method.\n",
    "2. The insert() method inserts an item at the specified index.\n",
    "3. This increases list length"
   ]
  },
  {
   "cell_type": "code",
   "execution_count": 32,
   "id": "d0823bc2",
   "metadata": {},
   "outputs": [
    {
     "data": {
      "text/plain": [
       "[1, 2, 3, 'krishna', 4, 5, 'radhakrishna', 'Radhakrishna', 'Radhakrishna']"
      ]
     },
     "execution_count": 32,
     "metadata": {},
     "output_type": "execute_result"
    }
   ],
   "source": [
    "l.insert(3,\"krishna\")\n",
    "l"
   ]
  },
  {
   "cell_type": "markdown",
   "id": "5f18b124",
   "metadata": {},
   "source": [
    "**4.3 extend() method**"
   ]
  },
  {
   "cell_type": "markdown",
   "id": "aff519f6",
   "metadata": {},
   "source": [
    "1. Any iterables can be added to list using extend() method\n",
    "2. iterables: list, tuple, set, dictionary, etc"
   ]
  },
  {
   "cell_type": "code",
   "execution_count": 34,
   "id": "fd712615",
   "metadata": {
    "scrolled": true
   },
   "outputs": [
    {
     "data": {
      "text/plain": [
       "[1,\n",
       " 2,\n",
       " 3,\n",
       " 'krishna',\n",
       " 4,\n",
       " 5,\n",
       " 'radhakrishna',\n",
       " 'Radhakrishna',\n",
       " 'Radhakrishna',\n",
       " 'krishna',\n",
       " 'name',\n",
       " 'ram',\n",
       " 'Shri']"
      ]
     },
     "execution_count": 34,
     "metadata": {},
     "output_type": "execute_result"
    }
   ],
   "source": [
    "l.extend({'name','Shri','krishna','ram'})\n",
    "l"
   ]
  },
  {
   "cell_type": "markdown",
   "id": "c738f40b",
   "metadata": {},
   "source": [
    "# 5.0 Remove elements from list"
   ]
  },
  {
   "cell_type": "code",
   "execution_count": 57,
   "id": "30f3e4f9",
   "metadata": {},
   "outputs": [],
   "source": [
    "l=[1,2,3,4,5,6,7,8,9]\n"
   ]
  },
  {
   "cell_type": "markdown",
   "id": "19e63694",
   "metadata": {},
   "source": [
    "**5.1 remove() method**"
   ]
  },
  {
   "cell_type": "markdown",
   "id": "fd84ca89",
   "metadata": {},
   "source": [
    "1. It removes a specified element"
   ]
  },
  {
   "cell_type": "code",
   "execution_count": 58,
   "id": "18b4ee69",
   "metadata": {},
   "outputs": [
    {
     "data": {
      "text/plain": [
       "[1, 2, 3, 4, 5, 6, 7, 9]"
      ]
     },
     "execution_count": 58,
     "metadata": {},
     "output_type": "execute_result"
    }
   ],
   "source": [
    "l.remove(8)\n",
    "l"
   ]
  },
  {
   "cell_type": "markdown",
   "id": "593957cd",
   "metadata": {},
   "source": [
    "**5.2 pop()**"
   ]
  },
  {
   "cell_type": "markdown",
   "id": "537dbc2a",
   "metadata": {},
   "source": [
    "1. It removes item at specified index\n",
    "2. If no index specified pop() removes last element."
   ]
  },
  {
   "cell_type": "code",
   "execution_count": 59,
   "id": "d93374ee",
   "metadata": {},
   "outputs": [
    {
     "data": {
      "text/plain": [
       "[2, 3, 4, 5, 6, 7, 9]"
      ]
     },
     "execution_count": 59,
     "metadata": {},
     "output_type": "execute_result"
    }
   ],
   "source": [
    "l.pop(0)\n",
    "l"
   ]
  },
  {
   "cell_type": "code",
   "execution_count": 60,
   "id": "db5244c9",
   "metadata": {},
   "outputs": [
    {
     "data": {
      "text/plain": [
       "[2, 4, 5, 6, 7, 9]"
      ]
     },
     "execution_count": 60,
     "metadata": {},
     "output_type": "execute_result"
    }
   ],
   "source": [
    "l.pop(1)\n",
    "l"
   ]
  },
  {
   "cell_type": "markdown",
   "id": "afd51901",
   "metadata": {},
   "source": [
    "**5.3 del keyword**"
   ]
  },
  {
   "cell_type": "markdown",
   "id": "347c6487",
   "metadata": {},
   "source": [
    "1. It also removes element at specified index"
   ]
  },
  {
   "cell_type": "code",
   "execution_count": 61,
   "id": "554f3177",
   "metadata": {},
   "outputs": [
    {
     "data": {
      "text/plain": [
       "[2, 4, 5, 6, 7, 9]"
      ]
     },
     "execution_count": 61,
     "metadata": {},
     "output_type": "execute_result"
    }
   ],
   "source": [
    "# at index 3 element value 6 will be removed\n",
    "l"
   ]
  },
  {
   "cell_type": "code",
   "execution_count": 62,
   "id": "7e77b524",
   "metadata": {},
   "outputs": [
    {
     "data": {
      "text/plain": [
       "[2, 4, 5, 7, 9]"
      ]
     },
     "execution_count": 62,
     "metadata": {},
     "output_type": "execute_result"
    }
   ],
   "source": [
    "del l[3]\n",
    "l"
   ]
  },
  {
   "cell_type": "markdown",
   "id": "2973fcb9",
   "metadata": {},
   "source": [
    "**5.4 clear() method**"
   ]
  },
  {
   "cell_type": "markdown",
   "id": "fda5b9eb",
   "metadata": {},
   "source": [
    "1. It is used to empty thr list."
   ]
  },
  {
   "cell_type": "code",
   "execution_count": 63,
   "id": "78f03157",
   "metadata": {},
   "outputs": [
    {
     "data": {
      "text/plain": [
       "[]"
      ]
     },
     "execution_count": 63,
     "metadata": {},
     "output_type": "execute_result"
    }
   ],
   "source": [
    "l.clear()\n",
    "l"
   ]
  },
  {
   "cell_type": "markdown",
   "id": "6c8801d1",
   "metadata": {},
   "source": [
    "# 6.0 Loop through lists"
   ]
  },
  {
   "cell_type": "code",
   "execution_count": 64,
   "id": "60de0380",
   "metadata": {},
   "outputs": [],
   "source": [
    "l=[\"a\",'b','c', 'd']"
   ]
  },
  {
   "cell_type": "markdown",
   "id": "d15222fa",
   "metadata": {},
   "source": [
    "**6.1 Using for loop**"
   ]
  },
  {
   "cell_type": "code",
   "execution_count": 66,
   "id": "11422aef",
   "metadata": {},
   "outputs": [
    {
     "name": "stdout",
     "output_type": "stream",
     "text": [
      "a\n",
      "b\n",
      "c\n",
      "d\n"
     ]
    }
   ],
   "source": [
    "# for items without index\n",
    "for a in l:\n",
    "    print(a)"
   ]
  },
  {
   "cell_type": "code",
   "execution_count": 67,
   "id": "e310aaff",
   "metadata": {},
   "outputs": [
    {
     "name": "stdout",
     "output_type": "stream",
     "text": [
      "a\n",
      "b\n",
      "c\n",
      "d\n"
     ]
    }
   ],
   "source": [
    "# using index\n",
    "for i in range(len(l)):\n",
    "    print(l[i])"
   ]
  },
  {
   "cell_type": "markdown",
   "id": "2edfae3c",
   "metadata": {},
   "source": [
    "**6.2 Using while loop**"
   ]
  },
  {
   "cell_type": "code",
   "execution_count": 68,
   "id": "66f1b460",
   "metadata": {},
   "outputs": [
    {
     "name": "stdout",
     "output_type": "stream",
     "text": [
      "a\n",
      "b\n",
      "c\n",
      "d\n"
     ]
    }
   ],
   "source": [
    "i=0\n",
    "while i<len(l):\n",
    "    print(l[i])\n",
    "    i+=1"
   ]
  },
  {
   "cell_type": "markdown",
   "id": "3fbe171b",
   "metadata": {},
   "source": [
    "# 7.0 list comprehension"
   ]
  },
  {
   "cell_type": "markdown",
   "id": "641bd51b",
   "metadata": {},
   "source": [
    "1. list comprehension is one line of code inside [ ] brackets"
   ]
  },
  {
   "cell_type": "markdown",
   "id": "109402ad",
   "metadata": {},
   "source": [
    "**7.1 Syntax**"
   ]
  },
  {
   "cell_type": "markdown",
   "id": "a4232e28",
   "metadata": {},
   "source": [
    "1. [expression for item in iterable if condition == True]\n",
    "\n",
    "2. The expression is the current item in the iteration, but it is also the outcome, which you can manipulate before it ends\n",
    "up like a list item in the new list.\n",
    "\n",
    "3. iterable can be list, tuple, set, etc\n",
    "\n",
    "4. Condition is filter that only accepts items that evaluate to True."
   ]
  },
  {
   "cell_type": "markdown",
   "id": "3ff93ead",
   "metadata": {},
   "source": [
    "**7.2 Implementation with examples**"
   ]
  },
  {
   "cell_type": "code",
   "execution_count": 69,
   "id": "33c31cfb",
   "metadata": {},
   "outputs": [],
   "source": [
    "colors = [\"red\", \"blue\", \"yellow\", \"brown\"]"
   ]
  },
  {
   "cell_type": "code",
   "execution_count": 70,
   "id": "591dad3a",
   "metadata": {},
   "outputs": [
    {
     "data": {
      "text/plain": [
       "['yellow', 'brown']"
      ]
     },
     "execution_count": 70,
     "metadata": {},
     "output_type": "execute_result"
    }
   ],
   "source": [
    "# for condition and iterable\n",
    "[x for x in colors if x not in[\"red\",\"blue\"]]"
   ]
  },
  {
   "cell_type": "code",
   "execution_count": 71,
   "id": "e15b4c99",
   "metadata": {},
   "outputs": [
    {
     "data": {
      "text/plain": [
       "[0, 1, 2, 3, 4, 5, 6, 7, 8, 9]"
      ]
     },
     "execution_count": 71,
     "metadata": {},
     "output_type": "execute_result"
    }
   ],
   "source": [
    "# generator function\n",
    "[x for x in range(10)]"
   ]
  },
  {
   "cell_type": "code",
   "execution_count": 73,
   "id": "2600dd44",
   "metadata": {},
   "outputs": [
    {
     "data": {
      "text/plain": [
       "[0, 1, 2, 3, 4]"
      ]
     },
     "execution_count": 73,
     "metadata": {},
     "output_type": "execute_result"
    }
   ],
   "source": [
    "# generator with condition\n",
    "[x for x in range(10) if x<5]"
   ]
  },
  {
   "cell_type": "code",
   "execution_count": 75,
   "id": "4902980d",
   "metadata": {},
   "outputs": [
    {
     "data": {
      "text/plain": [
       "['RED', 'BLUE', 'YELLOW', 'BROWN']"
      ]
     },
     "execution_count": 75,
     "metadata": {},
     "output_type": "execute_result"
    }
   ],
   "source": [
    "# expressions\n",
    "[x.upper() for x in colors]"
   ]
  },
  {
   "cell_type": "code",
   "execution_count": 78,
   "id": "e908f467",
   "metadata": {},
   "outputs": [],
   "source": [
    "for x in colors:\n",
    "    x.upper()"
   ]
  },
  {
   "cell_type": "code",
   "execution_count": 79,
   "id": "53b34cfc",
   "metadata": {},
   "outputs": [
    {
     "data": {
      "text/plain": [
       "['No color for you', 'blue', 'yellow', 'brown']"
      ]
     },
     "execution_count": 79,
     "metadata": {},
     "output_type": "execute_result"
    }
   ],
   "source": [
    "[x if x!='red' else 'No color for you' for x in colors]"
   ]
  },
  {
   "cell_type": "code",
   "execution_count": 82,
   "id": "62ab2cc2",
   "metadata": {},
   "outputs": [
    {
     "data": {
      "text/plain": [
       "['even', 2, 'even', 4, 'even', 6, 'even', 8, 'even', 10]"
      ]
     },
     "execution_count": 82,
     "metadata": {},
     "output_type": "execute_result"
    }
   ],
   "source": [
    "# even no in list\n",
    "l_int=[1,2,3,4,5,6,7,8,9,10]\n",
    "[x if x%2==0 else \"even\" for x in l_int]"
   ]
  },
  {
   "cell_type": "code",
   "execution_count": 84,
   "id": "2f460cd7",
   "metadata": {},
   "outputs": [
    {
     "data": {
      "text/plain": [
       "[2, 4, 6, 8, 10]"
      ]
     },
     "execution_count": 84,
     "metadata": {},
     "output_type": "execute_result"
    }
   ],
   "source": [
    "# better way to to even no example\n",
    "[x for x in l_int if x%2==0]"
   ]
  },
  {
   "cell_type": "markdown",
   "id": "f7e46e39",
   "metadata": {},
   "source": [
    "# 8.0 Sorting list element"
   ]
  },
  {
   "cell_type": "code",
   "execution_count": 86,
   "id": "72ca7d4e",
   "metadata": {},
   "outputs": [],
   "source": [
    "l_alpha=[\"red\",\"Blue\",\"Green\",\"Yelolow\"]\n",
    "l_num=[1,4,3,5,7,8,2,6,9]\n"
   ]
  },
  {
   "cell_type": "code",
   "execution_count": 87,
   "id": "ccc7bb94",
   "metadata": {},
   "outputs": [
    {
     "data": {
      "text/plain": [
       "['Blue', 'Green', 'Yelolow', 'red']"
      ]
     },
     "execution_count": 87,
     "metadata": {},
     "output_type": "execute_result"
    }
   ],
   "source": [
    "l_alpha.sort()  #sort the list in ascending order\n",
    "l_alpha"
   ]
  },
  {
   "cell_type": "code",
   "execution_count": 89,
   "id": "211329ee",
   "metadata": {},
   "outputs": [
    {
     "data": {
      "text/plain": [
       "['red', 'Yelolow', 'Green', 'Blue']"
      ]
     },
     "execution_count": 89,
     "metadata": {},
     "output_type": "execute_result"
    }
   ],
   "source": [
    "l_alpha.sort(reverse=True)  #sort the list in ascending order\n",
    "l_alpha"
   ]
  },
  {
   "cell_type": "code",
   "execution_count": 88,
   "id": "18253c65",
   "metadata": {},
   "outputs": [
    {
     "data": {
      "text/plain": [
       "[1, 2, 3, 4, 5, 6, 7, 8, 9]"
      ]
     },
     "execution_count": 88,
     "metadata": {},
     "output_type": "execute_result"
    }
   ],
   "source": [
    "l_num.sort()\n",
    "l_num"
   ]
  },
  {
   "cell_type": "code",
   "execution_count": 90,
   "id": "01070403",
   "metadata": {},
   "outputs": [
    {
     "data": {
      "text/plain": [
       "[9, 8, 7, 6, 5, 4, 3, 2, 1]"
      ]
     },
     "execution_count": 90,
     "metadata": {},
     "output_type": "execute_result"
    }
   ],
   "source": [
    "l_num.sort(reverse=True)\n",
    "l_num"
   ]
  },
  {
   "cell_type": "markdown",
   "id": "b8740acf",
   "metadata": {},
   "source": [
    "# 9.0 Creating copy of list"
   ]
  },
  {
   "cell_type": "markdown",
   "id": "85f181ae",
   "metadata": {},
   "source": [
    "Note: You cannot copy a list simply by typing list2 = list1, because: list2 will only be a reference to list1, and changes made\n",
    "in list1 will automatically also be made in list2."
   ]
  },
  {
   "cell_type": "code",
   "execution_count": 11,
   "id": "6fbac8f9",
   "metadata": {},
   "outputs": [
    {
     "data": {
      "text/plain": [
       "[1, 2, 3, 4, 5]"
      ]
     },
     "execution_count": 11,
     "metadata": {},
     "output_type": "execute_result"
    }
   ],
   "source": [
    "#For example see below code\n",
    "l1 = [1,2,3,4,5]\n",
    "l2 = l1\n",
    "l2"
   ]
  },
  {
   "cell_type": "code",
   "execution_count": 12,
   "id": "2578ddbb",
   "metadata": {},
   "outputs": [
    {
     "data": {
      "text/plain": [
       "[1, 2, 3, 'Shri', 4, 5]"
      ]
     },
     "execution_count": 12,
     "metadata": {},
     "output_type": "execute_result"
    }
   ],
   "source": [
    "l1.insert(3, \"Shri\")\n",
    "l2"
   ]
  },
  {
   "cell_type": "markdown",
   "id": "2f246fe7",
   "metadata": {},
   "source": [
    "### 9.1 Using copy() method"
   ]
  },
  {
   "cell_type": "code",
   "execution_count": 13,
   "id": "90b26c4c",
   "metadata": {},
   "outputs": [
    {
     "data": {
      "text/plain": [
       "[1, 2, 3, 4, 5]"
      ]
     },
     "execution_count": 13,
     "metadata": {},
     "output_type": "execute_result"
    }
   ],
   "source": [
    "l = [1,2,3,4,5]\n",
    "l_copy = l.copy()\n",
    "# inserting element in list l which will not affect copy list l_copy\n",
    "l.insert(3,\"shri\")\n",
    "l_copy"
   ]
  },
  {
   "cell_type": "markdown",
   "id": "040170f0",
   "metadata": {},
   "source": [
    "### 9.2 Using list() method"
   ]
  },
  {
   "cell_type": "code",
   "execution_count": 14,
   "id": "4ab7fd87",
   "metadata": {},
   "outputs": [
    {
     "data": {
      "text/plain": [
       "[1, 2, 3, 4, 5]"
      ]
     },
     "execution_count": 14,
     "metadata": {},
     "output_type": "execute_result"
    }
   ],
   "source": [
    "l1 = [1,2,3,4,5]\n",
    "l_copy1 = list(l1)\n",
    "# inserting element in list l1 which will not affect copy list l_copy1\n",
    "l1.insert(3,\"shubham\")\n",
    "l_copy1"
   ]
  },
  {
   "cell_type": "markdown",
   "id": "9f79cf31",
   "metadata": {},
   "source": [
    "# 10.0 Joining lists"
   ]
  },
  {
   "cell_type": "markdown",
   "id": "6c4580e1",
   "metadata": {},
   "source": [
    "### 10.1 Using '+' operator"
   ]
  },
  {
   "cell_type": "code",
   "execution_count": 15,
   "id": "bb531647",
   "metadata": {},
   "outputs": [
    {
     "data": {
      "text/plain": [
       "['Hare', 'Krishna']"
      ]
     },
     "execution_count": 15,
     "metadata": {},
     "output_type": "execute_result"
    }
   ],
   "source": [
    "l1 = [\"Hare\"]\n",
    "l2 = [\"Krishna\"]\n",
    "l3 = l1 + l2\n",
    "l3"
   ]
  },
  {
   "cell_type": "markdown",
   "id": "1cbcc302",
   "metadata": {},
   "source": [
    "#### Note: creating duplicate items inside a list"
   ]
  },
  {
   "cell_type": "code",
   "execution_count": 16,
   "id": "83492810",
   "metadata": {},
   "outputs": [
    {
     "data": {
      "text/plain": [
       "['Krishna', 'Krishna', 'Krishna', 'Krishna']"
      ]
     },
     "execution_count": 16,
     "metadata": {},
     "output_type": "execute_result"
    }
   ],
   "source": [
    "l3 = l2*4\n",
    "l3"
   ]
  },
  {
   "cell_type": "markdown",
   "id": "680c2ad0",
   "metadata": {},
   "source": [
    "### 10.2 Using append() method"
   ]
  },
  {
   "cell_type": "markdown",
   "id": "99721854",
   "metadata": {},
   "source": [
    "append() Adds an element at the end of the list"
   ]
  },
  {
   "cell_type": "code",
   "execution_count": 19,
   "id": "0a26c06a",
   "metadata": {},
   "outputs": [
    {
     "data": {
      "text/plain": [
       "[1, 2, 3, 2, 3, 4]"
      ]
     },
     "execution_count": 19,
     "metadata": {},
     "output_type": "execute_result"
    }
   ],
   "source": [
    "l1=[1,2,3]\n",
    "l2=[2,3,4]\n",
    "for x in l2:\n",
    "    l1.append(x)\n",
    "l1  "
   ]
  },
  {
   "cell_type": "code",
   "execution_count": 20,
   "id": "9ac72958",
   "metadata": {},
   "outputs": [
    {
     "data": {
      "text/plain": [
       "[1, 2, 3, 2, 3, 4]"
      ]
     },
     "execution_count": 20,
     "metadata": {},
     "output_type": "execute_result"
    }
   ],
   "source": [
    "l1=[1,2,3]\n",
    "l2=[2,3,4]\n",
    "l1.extend(l2)\n",
    "l1 "
   ]
  },
  {
   "cell_type": "markdown",
   "id": "b3bfe5a5",
   "metadata": {},
   "source": [
    "# 11.0 List methods"
   ]
  },
  {
   "cell_type": "markdown",
   "id": "37a5ca8f",
   "metadata": {},
   "source": [
    "1. append() Adds an element at the end of the list\n",
    "2. clear() Removes all the elements from the list\n",
    "3. copy() Returns a copy of the list\n",
    "4. count() Returns the number of elements with the specified value\n",
    "5. extend() Add the elements of a list (or any iterable), to the end of the current list\n",
    "6. index() Returns the index of the first element with the specified value\n",
    "7. insert() Adds an element at the specified position\n",
    "8. pop() Removes the element at the specified position\n",
    "9. remove() Removes the item with the specified value\n",
    "10. reverse() Reverses the order of the list\n",
    "11. sort() Sorts the list"
   ]
  },
  {
   "cell_type": "markdown",
   "id": "5a7f565c",
   "metadata": {},
   "source": [
    "### 11.1 reverse() method"
   ]
  },
  {
   "cell_type": "code",
   "execution_count": 22,
   "id": "7f1a7446",
   "metadata": {},
   "outputs": [
    {
     "data": {
      "text/plain": [
       "[1, 2, 2, 3, 4, 5, 8, 9]"
      ]
     },
     "execution_count": 22,
     "metadata": {},
     "output_type": "execute_result"
    }
   ],
   "source": [
    "l = [9,8,5,4,3,2,2,1]\n",
    "l.reverse()\n",
    "l"
   ]
  },
  {
   "cell_type": "markdown",
   "id": "63fc560c",
   "metadata": {},
   "source": [
    "### 11.2 count() method"
   ]
  },
  {
   "cell_type": "code",
   "execution_count": 23,
   "id": "10a79d7f",
   "metadata": {},
   "outputs": [
    {
     "data": {
      "text/plain": [
       "3"
      ]
     },
     "execution_count": 23,
     "metadata": {},
     "output_type": "execute_result"
    }
   ],
   "source": [
    "l = [1,1,1,2,2,2,3,3,3,4,4,4,4,5,5,5,5]\n",
    "l.count(1)"
   ]
  },
  {
   "cell_type": "code",
   "execution_count": 29,
   "id": "6cdc5378",
   "metadata": {},
   "outputs": [
    {
     "name": "stdout",
     "output_type": "stream",
     "text": [
      "Number :1 and its count 3\n",
      "Number :2 and its count 3\n",
      "Number :3 and its count 3\n",
      "Number :4 and its count 4\n",
      "Number :5 and its count 4\n"
     ]
    }
   ],
   "source": [
    "# counting all elements\n",
    "for i in set(l):\n",
    "    print(\"Number :{} and its count {}\".format(i,l.count(i)))\n",
    "    "
   ]
  },
  {
   "cell_type": "code",
   "execution_count": null,
   "id": "02e06cc7",
   "metadata": {},
   "outputs": [],
   "source": []
  }
 ],
 "metadata": {
  "kernelspec": {
   "display_name": "Python 3 (ipykernel)",
   "language": "python",
   "name": "python3"
  },
  "language_info": {
   "codemirror_mode": {
    "name": "ipython",
    "version": 3
   },
   "file_extension": ".py",
   "mimetype": "text/x-python",
   "name": "python",
   "nbconvert_exporter": "python",
   "pygments_lexer": "ipython3",
   "version": "3.9.7"
  }
 },
 "nbformat": 4,
 "nbformat_minor": 5
}
